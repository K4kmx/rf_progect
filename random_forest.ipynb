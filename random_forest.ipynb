{
  "cells": [
    {
      "cell_type": "markdown",
      "metadata": {
        "id": "RTiAQIagjq5p"
      },
      "source": [
        "В этом датасете собрана полная информация о различных ноутбуках, позволяющая детально проанализировать их технические характеристики и цены. В нем собраны ноутбуки различных марок, моделей и конфигураций.\n",
        "\n",
        "Создайте модель, которая будет определять конечную цену ноутбука"
      ]
    },
    {
      "cell_type": "markdown",
      "source": [
        "#Введение"
      ],
      "metadata": {
        "id": "r5vaTeoWr8Nn"
      }
    },
    {
      "cell_type": "markdown",
      "source": [
        "Подключение к диску, загрузка и установка необходимых библиотек"
      ],
      "metadata": {
        "id": "epA1u0t2sI2D"
      }
    },
    {
      "cell_type": "code",
      "execution_count": 55,
      "metadata": {
        "id": "LEMVL-5JmoYf"
      },
      "outputs": [],
      "source": [
        "import pandas as pd\n",
        "import numpy as np\n",
        "import matplotlib.pyplot as plt\n",
        "import seaborn as sns\n",
        "import re\n",
        "\n",
        "from scipy.stats import ttest_ind\n",
        "from sklearn.model_selection import train_test_split\n",
        "from sklearn.linear_model import LinearRegression\n",
        "from sklearn.metrics import mean_squared_error, mean_absolute_error\n",
        "from sklearn.preprocessing import StandardScaler\n",
        "from sklearn.preprocessing import OneHotEncoder\n",
        "from sklearn.compose import ColumnTransformer\n",
        "from sklearn.preprocessing import LabelEncoder\n",
        "from scipy.stats import f_oneway\n",
        "from sklearn.ensemble import RandomForestRegressor, GradientBoostingRegressor"
      ]
    },
    {
      "cell_type": "markdown",
      "source": [
        "# Загрузка и исследование данных"
      ],
      "metadata": {
        "id": "e93m7dShtTTf"
      }
    },
    {
      "cell_type": "markdown",
      "source": [
        "Загружаю данные и посмотрю основную информацию о них"
      ],
      "metadata": {
        "id": "_9CvP7qstaXc"
      }
    },
    {
      "cell_type": "code",
      "execution_count": 56,
      "metadata": {
        "colab": {
          "base_uri": "https://localhost:8080/",
          "height": 808
        },
        "id": "oyq9vNmMmlH6",
        "outputId": "80176ff1-1a00-4108-cadd-367d909caa16"
      },
      "outputs": [
        {
          "output_type": "display_data",
          "data": {
            "text/plain": [
              "                                                 Laptop       Status   Brand  \\\n",
              "0     ASUS ExpertBook B1 B1502CBA-EJ0436X Intel Core...          New    Asus   \n",
              "1     Alurin Go Start Intel Celeron N4020/8GB/256GB ...          New  Alurin   \n",
              "2     ASUS ExpertBook B1 B1502CBA-EJ0424X Intel Core...          New    Asus   \n",
              "3     MSI Katana GF66 12UC-082XES Intel Core i7-1270...          New     MSI   \n",
              "4     HP 15S-FQ5085NS Intel Core i5-1235U/16GB/512GB...          New      HP   \n",
              "...                                                 ...          ...     ...   \n",
              "2155  Razer Blade 17 FHD 360Hz Intel Core i7-11800H/...  Refurbished   Razer   \n",
              "2156  Razer Blade 17 FHD 360Hz Intel Core i7-11800H/...  Refurbished   Razer   \n",
              "2157  Razer Blade 17 FHD 360Hz Intel Core i7-11800H/...  Refurbished   Razer   \n",
              "2158  Razer Book 13 Intel Evo Core i7-1165G7/16GB/1T...  Refurbished   Razer   \n",
              "2159  Razer Book FHD+ Intel Evo Core i7-1165G7/16GB/...  Refurbished   Razer   \n",
              "\n",
              "           Model                CPU  RAM  Storage Storage type       GPU  \\\n",
              "0     ExpertBook      Intel Core i5    8      512          SSD       NaN   \n",
              "1             Go      Intel Celeron    8      256          SSD       NaN   \n",
              "2     ExpertBook      Intel Core i3    8      256          SSD       NaN   \n",
              "3         Katana      Intel Core i7   16     1000          SSD  RTX 3050   \n",
              "4            15S      Intel Core i5   16      512          SSD       NaN   \n",
              "...          ...                ...  ...      ...          ...       ...   \n",
              "2155       Blade      Intel Core i7   16     1000          SSD  RTX 3060   \n",
              "2156       Blade      Intel Core i7   16     1000          SSD  RTX 3070   \n",
              "2157       Blade      Intel Core i7   32     1000          SSD  RTX 3080   \n",
              "2158        Book  Intel Evo Core i7   16     1000          SSD       NaN   \n",
              "2159        Book  Intel Evo Core i7   16      256          SSD       NaN   \n",
              "\n",
              "      Screen Touch  Final Price  \n",
              "0       15.6    No      1009.00  \n",
              "1       15.6    No       299.00  \n",
              "2       15.6    No       789.00  \n",
              "3       15.6    No      1199.00  \n",
              "4       15.6    No       669.01  \n",
              "...      ...   ...          ...  \n",
              "2155    17.3    No      2699.99  \n",
              "2156    17.3    No      2899.99  \n",
              "2157    17.3    No      3399.99  \n",
              "2158    13.4   Yes      1899.99  \n",
              "2159    13.4   Yes      1699.99  \n",
              "\n",
              "[2160 rows x 12 columns]"
            ],
            "text/html": [
              "\n",
              "  <div id=\"df-1ae8e1f6-435c-415d-8e4a-dbb125cb5246\" class=\"colab-df-container\">\n",
              "    <div>\n",
              "<style scoped>\n",
              "    .dataframe tbody tr th:only-of-type {\n",
              "        vertical-align: middle;\n",
              "    }\n",
              "\n",
              "    .dataframe tbody tr th {\n",
              "        vertical-align: top;\n",
              "    }\n",
              "\n",
              "    .dataframe thead th {\n",
              "        text-align: right;\n",
              "    }\n",
              "</style>\n",
              "<table border=\"1\" class=\"dataframe\">\n",
              "  <thead>\n",
              "    <tr style=\"text-align: right;\">\n",
              "      <th></th>\n",
              "      <th>Laptop</th>\n",
              "      <th>Status</th>\n",
              "      <th>Brand</th>\n",
              "      <th>Model</th>\n",
              "      <th>CPU</th>\n",
              "      <th>RAM</th>\n",
              "      <th>Storage</th>\n",
              "      <th>Storage type</th>\n",
              "      <th>GPU</th>\n",
              "      <th>Screen</th>\n",
              "      <th>Touch</th>\n",
              "      <th>Final Price</th>\n",
              "    </tr>\n",
              "  </thead>\n",
              "  <tbody>\n",
              "    <tr>\n",
              "      <th>0</th>\n",
              "      <td>ASUS ExpertBook B1 B1502CBA-EJ0436X Intel Core...</td>\n",
              "      <td>New</td>\n",
              "      <td>Asus</td>\n",
              "      <td>ExpertBook</td>\n",
              "      <td>Intel Core i5</td>\n",
              "      <td>8</td>\n",
              "      <td>512</td>\n",
              "      <td>SSD</td>\n",
              "      <td>NaN</td>\n",
              "      <td>15.6</td>\n",
              "      <td>No</td>\n",
              "      <td>1009.00</td>\n",
              "    </tr>\n",
              "    <tr>\n",
              "      <th>1</th>\n",
              "      <td>Alurin Go Start Intel Celeron N4020/8GB/256GB ...</td>\n",
              "      <td>New</td>\n",
              "      <td>Alurin</td>\n",
              "      <td>Go</td>\n",
              "      <td>Intel Celeron</td>\n",
              "      <td>8</td>\n",
              "      <td>256</td>\n",
              "      <td>SSD</td>\n",
              "      <td>NaN</td>\n",
              "      <td>15.6</td>\n",
              "      <td>No</td>\n",
              "      <td>299.00</td>\n",
              "    </tr>\n",
              "    <tr>\n",
              "      <th>2</th>\n",
              "      <td>ASUS ExpertBook B1 B1502CBA-EJ0424X Intel Core...</td>\n",
              "      <td>New</td>\n",
              "      <td>Asus</td>\n",
              "      <td>ExpertBook</td>\n",
              "      <td>Intel Core i3</td>\n",
              "      <td>8</td>\n",
              "      <td>256</td>\n",
              "      <td>SSD</td>\n",
              "      <td>NaN</td>\n",
              "      <td>15.6</td>\n",
              "      <td>No</td>\n",
              "      <td>789.00</td>\n",
              "    </tr>\n",
              "    <tr>\n",
              "      <th>3</th>\n",
              "      <td>MSI Katana GF66 12UC-082XES Intel Core i7-1270...</td>\n",
              "      <td>New</td>\n",
              "      <td>MSI</td>\n",
              "      <td>Katana</td>\n",
              "      <td>Intel Core i7</td>\n",
              "      <td>16</td>\n",
              "      <td>1000</td>\n",
              "      <td>SSD</td>\n",
              "      <td>RTX 3050</td>\n",
              "      <td>15.6</td>\n",
              "      <td>No</td>\n",
              "      <td>1199.00</td>\n",
              "    </tr>\n",
              "    <tr>\n",
              "      <th>4</th>\n",
              "      <td>HP 15S-FQ5085NS Intel Core i5-1235U/16GB/512GB...</td>\n",
              "      <td>New</td>\n",
              "      <td>HP</td>\n",
              "      <td>15S</td>\n",
              "      <td>Intel Core i5</td>\n",
              "      <td>16</td>\n",
              "      <td>512</td>\n",
              "      <td>SSD</td>\n",
              "      <td>NaN</td>\n",
              "      <td>15.6</td>\n",
              "      <td>No</td>\n",
              "      <td>669.01</td>\n",
              "    </tr>\n",
              "    <tr>\n",
              "      <th>...</th>\n",
              "      <td>...</td>\n",
              "      <td>...</td>\n",
              "      <td>...</td>\n",
              "      <td>...</td>\n",
              "      <td>...</td>\n",
              "      <td>...</td>\n",
              "      <td>...</td>\n",
              "      <td>...</td>\n",
              "      <td>...</td>\n",
              "      <td>...</td>\n",
              "      <td>...</td>\n",
              "      <td>...</td>\n",
              "    </tr>\n",
              "    <tr>\n",
              "      <th>2155</th>\n",
              "      <td>Razer Blade 17 FHD 360Hz Intel Core i7-11800H/...</td>\n",
              "      <td>Refurbished</td>\n",
              "      <td>Razer</td>\n",
              "      <td>Blade</td>\n",
              "      <td>Intel Core i7</td>\n",
              "      <td>16</td>\n",
              "      <td>1000</td>\n",
              "      <td>SSD</td>\n",
              "      <td>RTX 3060</td>\n",
              "      <td>17.3</td>\n",
              "      <td>No</td>\n",
              "      <td>2699.99</td>\n",
              "    </tr>\n",
              "    <tr>\n",
              "      <th>2156</th>\n",
              "      <td>Razer Blade 17 FHD 360Hz Intel Core i7-11800H/...</td>\n",
              "      <td>Refurbished</td>\n",
              "      <td>Razer</td>\n",
              "      <td>Blade</td>\n",
              "      <td>Intel Core i7</td>\n",
              "      <td>16</td>\n",
              "      <td>1000</td>\n",
              "      <td>SSD</td>\n",
              "      <td>RTX 3070</td>\n",
              "      <td>17.3</td>\n",
              "      <td>No</td>\n",
              "      <td>2899.99</td>\n",
              "    </tr>\n",
              "    <tr>\n",
              "      <th>2157</th>\n",
              "      <td>Razer Blade 17 FHD 360Hz Intel Core i7-11800H/...</td>\n",
              "      <td>Refurbished</td>\n",
              "      <td>Razer</td>\n",
              "      <td>Blade</td>\n",
              "      <td>Intel Core i7</td>\n",
              "      <td>32</td>\n",
              "      <td>1000</td>\n",
              "      <td>SSD</td>\n",
              "      <td>RTX 3080</td>\n",
              "      <td>17.3</td>\n",
              "      <td>No</td>\n",
              "      <td>3399.99</td>\n",
              "    </tr>\n",
              "    <tr>\n",
              "      <th>2158</th>\n",
              "      <td>Razer Book 13 Intel Evo Core i7-1165G7/16GB/1T...</td>\n",
              "      <td>Refurbished</td>\n",
              "      <td>Razer</td>\n",
              "      <td>Book</td>\n",
              "      <td>Intel Evo Core i7</td>\n",
              "      <td>16</td>\n",
              "      <td>1000</td>\n",
              "      <td>SSD</td>\n",
              "      <td>NaN</td>\n",
              "      <td>13.4</td>\n",
              "      <td>Yes</td>\n",
              "      <td>1899.99</td>\n",
              "    </tr>\n",
              "    <tr>\n",
              "      <th>2159</th>\n",
              "      <td>Razer Book FHD+ Intel Evo Core i7-1165G7/16GB/...</td>\n",
              "      <td>Refurbished</td>\n",
              "      <td>Razer</td>\n",
              "      <td>Book</td>\n",
              "      <td>Intel Evo Core i7</td>\n",
              "      <td>16</td>\n",
              "      <td>256</td>\n",
              "      <td>SSD</td>\n",
              "      <td>NaN</td>\n",
              "      <td>13.4</td>\n",
              "      <td>Yes</td>\n",
              "      <td>1699.99</td>\n",
              "    </tr>\n",
              "  </tbody>\n",
              "</table>\n",
              "<p>2160 rows × 12 columns</p>\n",
              "</div>\n",
              "    <div class=\"colab-df-buttons\">\n",
              "\n",
              "  <div class=\"colab-df-container\">\n",
              "    <button class=\"colab-df-convert\" onclick=\"convertToInteractive('df-1ae8e1f6-435c-415d-8e4a-dbb125cb5246')\"\n",
              "            title=\"Convert this dataframe to an interactive table.\"\n",
              "            style=\"display:none;\">\n",
              "\n",
              "  <svg xmlns=\"http://www.w3.org/2000/svg\" height=\"24px\" viewBox=\"0 -960 960 960\">\n",
              "    <path d=\"M120-120v-720h720v720H120Zm60-500h600v-160H180v160Zm220 220h160v-160H400v160Zm0 220h160v-160H400v160ZM180-400h160v-160H180v160Zm440 0h160v-160H620v160ZM180-180h160v-160H180v160Zm440 0h160v-160H620v160Z\"/>\n",
              "  </svg>\n",
              "    </button>\n",
              "\n",
              "  <style>\n",
              "    .colab-df-container {\n",
              "      display:flex;\n",
              "      gap: 12px;\n",
              "    }\n",
              "\n",
              "    .colab-df-convert {\n",
              "      background-color: #E8F0FE;\n",
              "      border: none;\n",
              "      border-radius: 50%;\n",
              "      cursor: pointer;\n",
              "      display: none;\n",
              "      fill: #1967D2;\n",
              "      height: 32px;\n",
              "      padding: 0 0 0 0;\n",
              "      width: 32px;\n",
              "    }\n",
              "\n",
              "    .colab-df-convert:hover {\n",
              "      background-color: #E2EBFA;\n",
              "      box-shadow: 0px 1px 2px rgba(60, 64, 67, 0.3), 0px 1px 3px 1px rgba(60, 64, 67, 0.15);\n",
              "      fill: #174EA6;\n",
              "    }\n",
              "\n",
              "    .colab-df-buttons div {\n",
              "      margin-bottom: 4px;\n",
              "    }\n",
              "\n",
              "    [theme=dark] .colab-df-convert {\n",
              "      background-color: #3B4455;\n",
              "      fill: #D2E3FC;\n",
              "    }\n",
              "\n",
              "    [theme=dark] .colab-df-convert:hover {\n",
              "      background-color: #434B5C;\n",
              "      box-shadow: 0px 1px 3px 1px rgba(0, 0, 0, 0.15);\n",
              "      filter: drop-shadow(0px 1px 2px rgba(0, 0, 0, 0.3));\n",
              "      fill: #FFFFFF;\n",
              "    }\n",
              "  </style>\n",
              "\n",
              "    <script>\n",
              "      const buttonEl =\n",
              "        document.querySelector('#df-1ae8e1f6-435c-415d-8e4a-dbb125cb5246 button.colab-df-convert');\n",
              "      buttonEl.style.display =\n",
              "        google.colab.kernel.accessAllowed ? 'block' : 'none';\n",
              "\n",
              "      async function convertToInteractive(key) {\n",
              "        const element = document.querySelector('#df-1ae8e1f6-435c-415d-8e4a-dbb125cb5246');\n",
              "        const dataTable =\n",
              "          await google.colab.kernel.invokeFunction('convertToInteractive',\n",
              "                                                    [key], {});\n",
              "        if (!dataTable) return;\n",
              "\n",
              "        const docLinkHtml = 'Like what you see? Visit the ' +\n",
              "          '<a target=\"_blank\" href=https://colab.research.google.com/notebooks/data_table.ipynb>data table notebook</a>'\n",
              "          + ' to learn more about interactive tables.';\n",
              "        element.innerHTML = '';\n",
              "        dataTable['output_type'] = 'display_data';\n",
              "        await google.colab.output.renderOutput(dataTable, element);\n",
              "        const docLink = document.createElement('div');\n",
              "        docLink.innerHTML = docLinkHtml;\n",
              "        element.appendChild(docLink);\n",
              "      }\n",
              "    </script>\n",
              "  </div>\n",
              "\n",
              "\n",
              "<div id=\"df-df142597-74c0-4025-bf2d-3a8533a8461f\">\n",
              "  <button class=\"colab-df-quickchart\" onclick=\"quickchart('df-df142597-74c0-4025-bf2d-3a8533a8461f')\"\n",
              "            title=\"Suggest charts\"\n",
              "            style=\"display:none;\">\n",
              "\n",
              "<svg xmlns=\"http://www.w3.org/2000/svg\" height=\"24px\"viewBox=\"0 0 24 24\"\n",
              "     width=\"24px\">\n",
              "    <g>\n",
              "        <path d=\"M19 3H5c-1.1 0-2 .9-2 2v14c0 1.1.9 2 2 2h14c1.1 0 2-.9 2-2V5c0-1.1-.9-2-2-2zM9 17H7v-7h2v7zm4 0h-2V7h2v10zm4 0h-2v-4h2v4z\"/>\n",
              "    </g>\n",
              "</svg>\n",
              "  </button>\n",
              "\n",
              "<style>\n",
              "  .colab-df-quickchart {\n",
              "      --bg-color: #E8F0FE;\n",
              "      --fill-color: #1967D2;\n",
              "      --hover-bg-color: #E2EBFA;\n",
              "      --hover-fill-color: #174EA6;\n",
              "      --disabled-fill-color: #AAA;\n",
              "      --disabled-bg-color: #DDD;\n",
              "  }\n",
              "\n",
              "  [theme=dark] .colab-df-quickchart {\n",
              "      --bg-color: #3B4455;\n",
              "      --fill-color: #D2E3FC;\n",
              "      --hover-bg-color: #434B5C;\n",
              "      --hover-fill-color: #FFFFFF;\n",
              "      --disabled-bg-color: #3B4455;\n",
              "      --disabled-fill-color: #666;\n",
              "  }\n",
              "\n",
              "  .colab-df-quickchart {\n",
              "    background-color: var(--bg-color);\n",
              "    border: none;\n",
              "    border-radius: 50%;\n",
              "    cursor: pointer;\n",
              "    display: none;\n",
              "    fill: var(--fill-color);\n",
              "    height: 32px;\n",
              "    padding: 0;\n",
              "    width: 32px;\n",
              "  }\n",
              "\n",
              "  .colab-df-quickchart:hover {\n",
              "    background-color: var(--hover-bg-color);\n",
              "    box-shadow: 0 1px 2px rgba(60, 64, 67, 0.3), 0 1px 3px 1px rgba(60, 64, 67, 0.15);\n",
              "    fill: var(--button-hover-fill-color);\n",
              "  }\n",
              "\n",
              "  .colab-df-quickchart-complete:disabled,\n",
              "  .colab-df-quickchart-complete:disabled:hover {\n",
              "    background-color: var(--disabled-bg-color);\n",
              "    fill: var(--disabled-fill-color);\n",
              "    box-shadow: none;\n",
              "  }\n",
              "\n",
              "  .colab-df-spinner {\n",
              "    border: 2px solid var(--fill-color);\n",
              "    border-color: transparent;\n",
              "    border-bottom-color: var(--fill-color);\n",
              "    animation:\n",
              "      spin 1s steps(1) infinite;\n",
              "  }\n",
              "\n",
              "  @keyframes spin {\n",
              "    0% {\n",
              "      border-color: transparent;\n",
              "      border-bottom-color: var(--fill-color);\n",
              "      border-left-color: var(--fill-color);\n",
              "    }\n",
              "    20% {\n",
              "      border-color: transparent;\n",
              "      border-left-color: var(--fill-color);\n",
              "      border-top-color: var(--fill-color);\n",
              "    }\n",
              "    30% {\n",
              "      border-color: transparent;\n",
              "      border-left-color: var(--fill-color);\n",
              "      border-top-color: var(--fill-color);\n",
              "      border-right-color: var(--fill-color);\n",
              "    }\n",
              "    40% {\n",
              "      border-color: transparent;\n",
              "      border-right-color: var(--fill-color);\n",
              "      border-top-color: var(--fill-color);\n",
              "    }\n",
              "    60% {\n",
              "      border-color: transparent;\n",
              "      border-right-color: var(--fill-color);\n",
              "    }\n",
              "    80% {\n",
              "      border-color: transparent;\n",
              "      border-right-color: var(--fill-color);\n",
              "      border-bottom-color: var(--fill-color);\n",
              "    }\n",
              "    90% {\n",
              "      border-color: transparent;\n",
              "      border-bottom-color: var(--fill-color);\n",
              "    }\n",
              "  }\n",
              "</style>\n",
              "\n",
              "  <script>\n",
              "    async function quickchart(key) {\n",
              "      const quickchartButtonEl =\n",
              "        document.querySelector('#' + key + ' button');\n",
              "      quickchartButtonEl.disabled = true;  // To prevent multiple clicks.\n",
              "      quickchartButtonEl.classList.add('colab-df-spinner');\n",
              "      try {\n",
              "        const charts = await google.colab.kernel.invokeFunction(\n",
              "            'suggestCharts', [key], {});\n",
              "      } catch (error) {\n",
              "        console.error('Error during call to suggestCharts:', error);\n",
              "      }\n",
              "      quickchartButtonEl.classList.remove('colab-df-spinner');\n",
              "      quickchartButtonEl.classList.add('colab-df-quickchart-complete');\n",
              "    }\n",
              "    (() => {\n",
              "      let quickchartButtonEl =\n",
              "        document.querySelector('#df-df142597-74c0-4025-bf2d-3a8533a8461f button');\n",
              "      quickchartButtonEl.style.display =\n",
              "        google.colab.kernel.accessAllowed ? 'block' : 'none';\n",
              "    })();\n",
              "  </script>\n",
              "</div>\n",
              "    </div>\n",
              "  </div>\n"
            ]
          },
          "metadata": {}
        }
      ],
      "source": [
        "file_path = \"/content/sample_data/laptops.csv\"\n",
        "\n",
        "df = pd.read_csv(file_path)\n",
        "\n",
        "display(df)"
      ]
    },
    {
      "cell_type": "code",
      "execution_count": 57,
      "metadata": {
        "colab": {
          "base_uri": "https://localhost:8080/"
        },
        "id": "edidi0R4bGvd",
        "outputId": "8ed84643-367c-45bf-c500-0df4df6652c5"
      },
      "outputs": [
        {
          "output_type": "stream",
          "name": "stdout",
          "text": [
            "<class 'pandas.core.frame.DataFrame'>\n",
            "RangeIndex: 2160 entries, 0 to 2159\n",
            "Data columns (total 12 columns):\n",
            " #   Column        Non-Null Count  Dtype  \n",
            "---  ------        --------------  -----  \n",
            " 0   Laptop        2160 non-null   object \n",
            " 1   Status        2160 non-null   object \n",
            " 2   Brand         2160 non-null   object \n",
            " 3   Model         2160 non-null   object \n",
            " 4   CPU           2160 non-null   object \n",
            " 5   RAM           2160 non-null   int64  \n",
            " 6   Storage       2160 non-null   int64  \n",
            " 7   Storage type  2118 non-null   object \n",
            " 8   GPU           789 non-null    object \n",
            " 9   Screen        2156 non-null   float64\n",
            " 10  Touch         2160 non-null   object \n",
            " 11  Final Price   2160 non-null   float64\n",
            "dtypes: float64(2), int64(2), object(8)\n",
            "memory usage: 202.6+ KB\n",
            "None\n",
            "               RAM      Storage       Screen  Final Price\n",
            "count  2160.000000  2160.000000  2156.000000  2160.000000\n",
            "mean     15.413889   596.294444    15.168112  1312.638509\n",
            "std       9.867815   361.220506     1.203329   911.475417\n",
            "min       4.000000     0.000000    10.100000   201.050000\n",
            "25%       8.000000   256.000000    14.000000   661.082500\n",
            "50%      16.000000   512.000000    15.600000  1031.945000\n",
            "75%      16.000000  1000.000000    15.600000  1708.970000\n",
            "max     128.000000  4000.000000    18.000000  7150.470000\n"
          ]
        }
      ],
      "source": [
        "print(df.info())\n",
        "\n",
        "print(df.describe())"
      ]
    },
    {
      "cell_type": "code",
      "source": [
        "df.columns = df.columns.str.lower().str.replace(' ', '_')\n",
        "df.columns"
      ],
      "metadata": {
        "colab": {
          "base_uri": "https://localhost:8080/"
        },
        "id": "Mxm-pOsEIKvz",
        "outputId": "7b618b40-639a-4a90-c70c-81c30a12e732"
      },
      "execution_count": 58,
      "outputs": [
        {
          "output_type": "execute_result",
          "data": {
            "text/plain": [
              "Index(['laptop', 'status', 'brand', 'model', 'cpu', 'ram', 'storage',\n",
              "       'storage_type', 'gpu', 'screen', 'touch', 'final_price'],\n",
              "      dtype='object')"
            ]
          },
          "metadata": {},
          "execution_count": 58
        }
      ]
    },
    {
      "cell_type": "markdown",
      "metadata": {
        "id": "6CSe7t68bXS7"
      },
      "source": [
        "##Общая информация о данных:\n",
        "\n",
        "В датафрейме содержится информация о 2160 ноутбуках.\n",
        "Присутствуют как числовые (RAM, Storage, Screen, Final Price), так и категориальные (Laptop, Status, Brand, Model, CPU, Storage type, GPU, Touch) признаки.\n",
        "Видны пропущенные значения в столбцах Storage type и GPU.\n",
        "\n",
        "**Анализ числовых признаков:**\n",
        "\n",
        "Среднее значение RAM составляет около 15.41 ГБ, а Storage - около 596 ГБ.\n",
        "Средний размер экрана около 15.17 дюйма.\n",
        "Финальные цены варьируются от 201.05 до 7150.47, среднее значение составляет примерно 1312.64.\n",
        "\n",
        "**Анализ категориальных признаков:**\n",
        "\n",
        "Столбцы Laptop, Brand, Model, CPU, Storage type, GPU и Touch содержат различные категориальные значения.\n",
        "\n",
        "***Пропущенные значения:***\n",
        "\n",
        "В столбце Storage type есть некоторые пропущенные значения, которые могут потребоваться обработки.\n",
        "В столбце GPU также есть много пропущенных значений, которые могут указывать на отсутствие дискретной графики в некоторых моделях ноутбуков."
      ]
    },
    {
      "cell_type": "markdown",
      "source": [
        "#Предобработка данных:\n",
        "\n",
        "Пропущенные значения в столбце Storage type заполню наиболее часто встречающимся значением (например, 'HDD' или 'SSD').\n",
        "Пропущенные значения в столбце GPU можно заполнить значением 'None' для моделей без дискретной графики.\n",
        "Категориальные признаки (кроме Touch) могут быть закодированы с помощью метода OneHotEncoding, который создаст бинарные признаки для каждой категории."
      ],
      "metadata": {
        "id": "I6ZlAow5t2sW"
      }
    },
    {
      "cell_type": "code",
      "source": [
        "df.isnull().sum()"
      ],
      "metadata": {
        "colab": {
          "base_uri": "https://localhost:8080/"
        },
        "id": "-2_paBpRpNIT",
        "outputId": "03c75af8-927b-4e16-9152-50db5ae3470d"
      },
      "execution_count": 59,
      "outputs": [
        {
          "output_type": "execute_result",
          "data": {
            "text/plain": [
              "laptop             0\n",
              "status             0\n",
              "brand              0\n",
              "model              0\n",
              "cpu                0\n",
              "ram                0\n",
              "storage            0\n",
              "storage_type      42\n",
              "gpu             1371\n",
              "screen             4\n",
              "touch              0\n",
              "final_price        0\n",
              "dtype: int64"
            ]
          },
          "metadata": {},
          "execution_count": 59
        }
      ]
    },
    {
      "cell_type": "code",
      "source": [
        "df['storage_type'].fillna('Unknown', inplace=True)\n",
        "df['gpu'].fillna('Unknown', inplace=True)\n",
        "df['screen'].fillna(df['screen'].median(), inplace=True)"
      ],
      "metadata": {
        "id": "rJepapgGpNFw"
      },
      "execution_count": 60,
      "outputs": []
    },
    {
      "cell_type": "code",
      "source": [
        "df.isnull().sum()"
      ],
      "metadata": {
        "colab": {
          "base_uri": "https://localhost:8080/"
        },
        "id": "8Q0i_-1_pNCl",
        "outputId": "4ee5c1e2-e12b-41a4-b8f6-a9eab40fb1da"
      },
      "execution_count": 61,
      "outputs": [
        {
          "output_type": "execute_result",
          "data": {
            "text/plain": [
              "laptop          0\n",
              "status          0\n",
              "brand           0\n",
              "model           0\n",
              "cpu             0\n",
              "ram             0\n",
              "storage         0\n",
              "storage_type    0\n",
              "gpu             0\n",
              "screen          0\n",
              "touch           0\n",
              "final_price     0\n",
              "dtype: int64"
            ]
          },
          "metadata": {},
          "execution_count": 61
        }
      ]
    },
    {
      "cell_type": "markdown",
      "source": [
        "Пропуски обработаны"
      ],
      "metadata": {
        "id": "X0ImeoZmuMB0"
      }
    },
    {
      "cell_type": "markdown",
      "source": [
        "#Визуализация данных"
      ],
      "metadata": {
        "id": "w0BJDoqduPF6"
      }
    },
    {
      "cell_type": "code",
      "source": [
        "sns.histplot(df['final_price'], bins=50, kde=True)\n",
        "plt.title('Распределение цен')\n",
        "plt.show()"
      ],
      "metadata": {
        "colab": {
          "base_uri": "https://localhost:8080/",
          "height": 472
        },
        "id": "tky1myoIpNAJ",
        "outputId": "f45024ea-f269-47fa-fc70-3054ede6278b"
      },
      "execution_count": 62,
      "outputs": [
        {
          "output_type": "display_data",
          "data": {
            "text/plain": [
              "<Figure size 640x480 with 1 Axes>"
            ],
            "image/png": "[encoded data removed]"
          },
          "metadata": {}
        }
      ]
    },
    {
      "cell_type": "code",
      "source": [
        "plt.figure(figsize=(15,7))\n",
        "sns.boxplot(data=df, x='brand', y='final_price')\n",
        "plt.xticks(rotation=45)\n",
        "plt.title('Распределение цен по брендам')\n",
        "plt.show()"
      ],
      "metadata": {
        "colab": {
          "base_uri": "https://localhost:8080/",
          "height": 374
        },
        "id": "532H-hQIp77O",
        "outputId": "bb357d2a-e483-460d-8462-408dd03f570b"
      },
      "execution_count": 63,
      "outputs": [
        {
          "output_type": "display_data",
          "data": {
            "text/plain": [
              "<Figure size 1500x700 with 1 Axes>"
            ],
            "image/png": "[encoded data removed]"
          },
          "metadata": {}
        }
      ]
    },
    {
      "cell_type": "markdown",
      "source": [
        "**Вывод:**\n",
        "1. Большинство цен на ноутбуки сосредоточено в ценовом сегменте до 2000$.\n",
        "2. На ящике с ушами четко выделены основные производители, почти все они в среднем ценовом сегменте (кроме Razer и MSI).\n",
        "3. На основе изученных данных можно выдвинуть гипотезы и проверить их."
      ],
      "metadata": {
        "id": "FqS7aDUyudis"
      }
    },
    {
      "cell_type": "markdown",
      "source": [
        "В нашем случае целевой признак - это \"Final Price\", который представляет собой стоимость ноутбука в денежных единицах. Это непрерывная переменная, поскольку цена может принимать любое значение в определенном диапазоне. Задача заключается в том, чтобы, основываясь на различных характеристиках ноутбука (как, например, объем RAM, бренд, объем хранения и другие), предсказать его стоимость."
      ],
      "metadata": {
        "id": "b4QU0Y8ZroV_"
      }
    },
    {
      "cell_type": "markdown",
      "source": [
        "#Подготовка и обучение модели"
      ],
      "metadata": {
        "id": "3vewCjonwehV"
      }
    },
    {
      "cell_type": "markdown",
      "source": [
        "Перед обучением необходимо произвести кодирование признаков. Выполню через One-Hot Encoding и подготовлю данные к обучение"
      ],
      "metadata": {
        "id": "tgsrTGnswkMW"
      }
    },
    {
      "cell_type": "code",
      "source": [
        "df = pd.get_dummies(df, columns=['laptop', 'status', 'brand', 'model', 'cpu', 'storage_type', 'gpu', 'touch'], drop_first=True)\n",
        "\n",
        "# Проверим, как теперь выглядит DataFrame\n",
        "df.columns"
      ],
      "metadata": {
        "id": "RaBus3-DsKKs",
        "colab": {
          "base_uri": "https://localhost:8080/"
        },
        "outputId": "3900d45e-7201-4dc1-8dcf-cc425a7ebeff"
      },
      "execution_count": 64,
      "outputs": [
        {
          "output_type": "execute_result",
          "data": {
            "text/plain": [
              "Index(['ram', 'storage', 'screen', 'final_price',\n",
              "       'laptop_ASUS BR1100FKA-BP1185XA Intel Celeron N4500/4GB/128GB SSD/11.6\" Táctil',\n",
              "       'laptop_ASUS Chromebook C433TA-AJ0336 Intel Core m3-8100Y/8GB/64GB eMMC/14\" Táctil',\n",
              "       'laptop_ASUS Chromebook CR1 CR1100CKA-GJ0132 Intel Celeron N4500/4GB/32GB/11.6\"',\n",
              "       'laptop_ASUS Chromebook CR1100FKA-BP0024 Intel Celeron N4500/4GB/32GB eMMC/11.6\" Táctil',\n",
              "       'laptop_ASUS Chromebook CX1400CKA-EK0138 Intel Celeron N4500/8GB/64GB eMMC/14\"',\n",
              "       'laptop_ASUS Chromebook CX1400CNA-BV0210 Intel Celeron N3350/8GB/32GB/14\"',\n",
              "       ...\n",
              "       'gpu_Radeon Pro RX 560X', 'gpu_Radeon RX 6600M', 'gpu_T 1000',\n",
              "       'gpu_T 1200', 'gpu_T 2000', 'gpu_T 500', 'gpu_T 550', 'gpu_T 600',\n",
              "       'gpu_Unknown', 'touch_Yes'],\n",
              "      dtype='object', length=2384)"
            ]
          },
          "metadata": {},
          "execution_count": 64
        }
      ]
    },
    {
      "cell_type": "markdown",
      "source": [
        "##Разделение данных на выборки"
      ],
      "metadata": {
        "id": "j6XmugXOs2Mo"
      }
    },
    {
      "cell_type": "code",
      "source": [
        "# Отделяем целевую переменную от признаков\n",
        "X = df.drop('final_price', axis=1)\n",
        "y = df['final_price']\n",
        "\n",
        "# Разделяем выборки\n",
        "X_train, X_temp, y_train, y_temp = train_test_split(X, y, test_size=0.3, random_state=42)\n",
        "\n",
        "# Разделяем выборку на валидационную и тестовую\n",
        "X_val, X_test, y_val, y_test = train_test_split(X_temp, y_temp, test_size=0.5, random_state=42)"
      ],
      "metadata": {
        "id": "J0j9O414s3lk"
      },
      "execution_count": 65,
      "outputs": []
    },
    {
      "cell_type": "markdown",
      "source": [
        "Данные разделены на выборки"
      ],
      "metadata": {
        "id": "zNWfX-8yw1AN"
      }
    },
    {
      "cell_type": "markdown",
      "source": [
        "Признаки масштабированы, теперь обосную выбор метрики"
      ],
      "metadata": {
        "id": "R01W2AWmlOFv"
      }
    },
    {
      "cell_type": "markdown",
      "source": [
        "Для проекта, который направлен на прогнозирование цены ноутбуков (задача регрессии), важна легкая интерпретируемость метрики (например, для объяснения результатов неспециалистам), поэтому MAE или RMSE могут быть более предпочтительными.\n",
        "\n",
        "Соответственно, буду использовать RMSE, поскольку основная цель — точно предсказывать цены, включая редкие, но значительные отклонения (например, очень дорогие модели).\n",
        "\n",
        "Учитывая, что цены на ноутбуки могут сильно варьироваться и наличие дорогих моделей может существенно влиять на точность предсказания, RMSE может быть наиболее подходящей метрикой для проекта."
      ],
      "metadata": {
        "id": "qK5C17M_lSxB"
      }
    },
    {
      "cell_type": "markdown",
      "source": [
        "**Случайный лес (Random Forest)**"
      ],
      "metadata": {
        "id": "wR_r5Su2p8tn"
      }
    },
    {
      "cell_type": "code",
      "source": [
        "# Диапазоны параметров для случайного леса\n",
        "rf_params = {\n",
        "    'n_estimators': randint(10, 100),\n",
        "    'max_depth': randint(5, 25),\n",
        "    'min_samples_split': randint(2, 5),\n",
        "    'min_samples_leaf': randint(1, 3)\n",
        "}\n",
        "\n",
        "# Настройка RandomizedSearchCV\n",
        "rf_search = RandomizedSearchCV(RandomForestRegressor(), rf_params,\n",
        "                               n_iter=10, scoring='neg_root_mean_squared_error',\n",
        "                               random_state=42, n_jobs=-1)\n",
        "\n",
        "# Запуск поиска\n",
        "rf_search.fit(X_train, y_train)\n",
        "\n",
        "# Лучшие параметры и RMSE\n",
        "rf_best_params = rf_search.best_params_\n",
        "rf_best_rmse = -rf_search.best_score_\n",
        "print(f\"Лучшие параметры RandomForest: {rf_best_params}\")\n",
        "print(f\"Лучшие параметры RandomForest для (RMSE): {rf_best_rmse}\")"
      ],
      "metadata": {
        "colab": {
          "base_uri": "https://localhost:8080/"
        },
        "id": "X4WwK4SkjtRn",
        "outputId": "d1168fc0-edfd-465a-fdd0-83b9d12b8ec1"
      },
      "execution_count": 66,
      "outputs": [
        {
          "output_type": "stream",
          "name": "stdout",
          "text": [
            "Лучшие параметры RandomForest: {'max_depth': 19, 'min_samples_leaf': 2, 'min_samples_split': 4, 'n_estimators': 64}\n",
            "Лучшие параметры RandomForest для (RMSE): 398.50178368696686\n"
          ]
        }
      ]
    }
  ],
  "metadata": {
    "colab": {
      "provenance": []
    },
    "kernelspec": {
      "display_name": "Python 3",
      "name": "python3"
    },
    "language_info": {
      "name": "python"
    }
  },
  "nbformat": 4,
  "nbformat_minor": 0
}